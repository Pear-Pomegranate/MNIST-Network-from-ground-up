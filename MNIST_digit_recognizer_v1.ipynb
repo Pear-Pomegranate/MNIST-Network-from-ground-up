{
 "cells": [
  {
   "cell_type": "code",
   "execution_count": 78,
   "metadata": {},
   "outputs": [],
   "source": [
    "import numpy as np\n",
    "import pandas as pd\n",
    "from matplotlib import pyplot as plt\n",
    "import pickle\n",
    "import os"
   ]
  },
  {
   "cell_type": "code",
   "execution_count": 4,
   "metadata": {},
   "outputs": [],
   "source": [
    "def shuffle_with_seed(arr, seed):\n",
    "    #shuffle the rows of the matrix\n",
    "    np.random.seed(seed)\n",
    "    np.random.shuffle(arr)\n",
    "    return arr"
   ]
  },
  {
   "cell_type": "code",
   "execution_count": 5,
   "metadata": {},
   "outputs": [],
   "source": [
    "data = pd.read_csv('train.csv')\n",
    "data = np.array(data)\n",
    "M,N = data.shape\n",
    "data = shuffle_with_seed(data,42)"
   ]
  },
  {
   "cell_type": "code",
   "execution_count": 6,
   "metadata": {},
   "outputs": [
    {
     "data": {
      "text/plain": [
       "(42000, 785)"
      ]
     },
     "execution_count": 6,
     "metadata": {},
     "output_type": "execute_result"
    }
   ],
   "source": [
    "M,N"
   ]
  },
  {
   "cell_type": "code",
   "execution_count": 10,
   "metadata": {},
   "outputs": [],
   "source": [
    "#manual train-test split\n",
    "data_test = data[0:1000].T\n",
    "Y_test = data_test[0]\n",
    "X_test = data_test[1:N]\n",
    "X_test = X_test/255\n",
    "#normalize the X value so that it deos not blow up in the exponential calculations.\n",
    "\n",
    "data_train = data[1000:M].T\n",
    "Y_train = data_train[0]\n",
    "X_train = data_train[1:N]\n",
    "X_train = X_train/255\n",
    "\n",
    "N_train,M_train = X_train.shape\n",
    "N0 = N_train\n",
    "N1 = 10\n",
    "N2 = 10\n",
    "M = M_train"
   ]
  },
  {
   "cell_type": "code",
   "execution_count": 8,
   "metadata": {},
   "outputs": [
    {
     "data": {
      "text/plain": [
       "(784, 41000)"
      ]
     },
     "execution_count": 8,
     "metadata": {},
     "output_type": "execute_result"
    }
   ],
   "source": [
    "N_train,M_train"
   ]
  },
  {
   "cell_type": "code",
   "execution_count": 12,
   "metadata": {},
   "outputs": [
    {
     "data": {
      "text/plain": [
       "(784, 41000)"
      ]
     },
     "execution_count": 12,
     "metadata": {},
     "output_type": "execute_result"
    }
   ],
   "source": [
    "\n",
    "X_train.shape"
   ]
  },
  {
   "cell_type": "code",
   "execution_count": 13,
   "metadata": {},
   "outputs": [
    {
     "data": {
      "text/plain": [
       "array([2, 6, 4, ..., 2, 6, 0], dtype=int64)"
      ]
     },
     "execution_count": 13,
     "metadata": {},
     "output_type": "execute_result"
    }
   ],
   "source": [
    "Y_train"
   ]
  },
  {
   "cell_type": "code",
   "execution_count": 69,
   "metadata": {},
   "outputs": [],
   "source": [
    "\n",
    "def initialize_para(seed=None):\n",
    "    # pass the random seed for reproducibility\n",
    "    W1 = generate_random_matrix(N1,N0,seed)\n",
    "    W2 = generate_random_matrix(N2,N1,seed)\n",
    "    b1 = generate_random_matrix(N1,1,seed)\n",
    "    b2 = generate_random_matrix(N2,1,seed)\n",
    "\n",
    "    W = [W1,W2]\n",
    "    b = [b1,b2]\n",
    "    \n",
    "    return W, b\n",
    "\n",
    "\n",
    "def generate_random_matrix(N, M, seed=None):\n",
    "    # Set the random seed for reproducibility\n",
    "    if seed is not None:\n",
    "        np.random.seed(seed)\n",
    "    # Generate an N x M matrix with values uniformly distributed between 0 and 1\n",
    "    random_matrix = np.random.rand(N, M)\n",
    "    # Scale and shift the values to the range [-0.5, 0.5]\n",
    "    random_matrix = 1 * random_matrix - 0.5\n",
    "    return random_matrix\n",
    "\n",
    "def forward_propagation(W,b,X):\n",
    "    b1, b2 = b\n",
    "    W1, W2 = W\n",
    "    Z1 = W1.dot(X)+b1\n",
    "    A1 = ReLU(Z1)\n",
    "    Z2 = W2.dot(A1)+b2\n",
    "    #Z2 = Z2- np.max(Z2, axis=0, keepdims=True)\n",
    "    A2 = softmax(Z2)\n",
    "\n",
    "    Z = [Z1,Z2]\n",
    "    A = [A1,A2]\n",
    "\n",
    "    return Z,A\n",
    "\n",
    "\n",
    "def softmax(Z):\n",
    "    exp_Z = np.exp(Z - np.max(Z, axis=0, keepdims=True))  # Subtract max for numerical stability\n",
    "    return exp_Z / np.sum(exp_Z, axis=0, keepdims=True)\n",
    "\n",
    "def ReLU(Z):\n",
    "    return np.maximum(0,Z)\n",
    "\n",
    "def ReLU_derivative(Z):\n",
    "    return Z>0\n",
    "\n",
    "#pack A1,A2 into tuples(can also use lists)\n",
    "#A = (A1,A2)\n",
    "\n",
    "#calculation of gradient terms\n",
    "def back_propagation(A,Z,W,X,Y):\n",
    "    #A0 = X #size N0 x M\n",
    "    A1, A2 = A\n",
    "    Z1, Z2 = Z\n",
    "    W1, W2 = W\n",
    "    #N,M = X.shape\n",
    "    # apply one hot encoding to Y\n",
    "    one_hot_Y = one_hot(Y)\n",
    "    #calculate the approximate form for partial L partial Z2\n",
    "    pd_Z2_L = (A2-one_hot_Y)/M #size N2 x M\n",
    "    #calculate the approximate form for partial L partial Z1\n",
    "    pd_Z1_L = W2.T.dot(pd_Z2_L)*ReLU_derivative(Z1) # size N1 x M\n",
    "\n",
    "    # now the derivative that directly affect gradient updates\n",
    "    pd_W2_L = pd_Z2_L.dot(A1.T) #size N2 x M\n",
    "    pd_b2_L = np.sum(pd_Z2_L, axis = 1, keepdims=True) #size N2 x 1\n",
    "\n",
    "    pd_W1_L = pd_Z1_L.dot(X.T) #size N1 x M\n",
    "    pd_b1_L = np.sum(pd_Z1_L, axis=1, keepdims=True) # size N1 x 1\n",
    "\n",
    "    pd_W = [pd_W1_L, pd_W2_L]\n",
    "    pd_b = [pd_b1_L, pd_b2_L]\n",
    "    return pd_W, pd_b\n",
    "\n",
    "# def update_weights(W,b,pd_W,pd_b,alpha):\n",
    "#     W1,W2 = W\n",
    "#     b1,b2 = b\n",
    "\n",
    "#     pd_W1,pd_W2 = pd_W\n",
    "#     pd_b1,pd_b2 = pd_b\n",
    "\n",
    "#     W1 = W1-alpha*pd_W1\n",
    "#     W2 = W2-alpha*pd_W2\n",
    "\n",
    "#     b1 = b1- alpha*pd_b1\n",
    "#     b2 = b2- alpha*pd_b2\n",
    "\n",
    "#     W = (W1,W2)\n",
    "#     b = (b1,b2)\n",
    "\n",
    "#     return W,b\n",
    "\n",
    "#simplified version\n",
    "def update_weights(W, b, pd_W, pd_b, alpha):\n",
    "    W = list(w - alpha * pd_w for w, pd_w in zip(W, pd_W))\n",
    "    b = list(bi - alpha * pd_bi for bi, pd_bi in zip(b, pd_b))\n",
    "    return W, b\n",
    "\n",
    "#one hot encoding\n",
    "def one_hot(Y):\n",
    "    one_hot_Y = np.zeros((Y.size, Y.max() + 1))\n",
    "    one_hot_Y[np.arange(Y.size), Y] = 1\n",
    "    one_hot_Y = one_hot_Y.T\n",
    "    return one_hot_Y\n",
    "\n",
    "def gradient_descent(X,Y,alpha,iter,seed=None,W=None,b=None):\n",
    "    if W is None and b is None:\n",
    "        W, b = initialize_para(seed)\n",
    "\n",
    "    i=0\n",
    "    while i < iter:\n",
    "        Z,A = forward_propagation(W,b,X)\n",
    "        pd_W, pd_b = back_propagation(A,Z,W,X,Y)\n",
    "        W,b = update_weights(W,b,pd_W,pd_b,alpha)\n",
    "        i = i+1\n",
    "        if (i%10 ==0 and i<=50) or i%100 ==0:\n",
    "            print(\"iteration: %d\\n\" %i)\n",
    "            pred_Y = get_pred(A)\n",
    "            accuracy = get_accuracy(Y,pred_Y)\n",
    "            print('%s || %s\\naccuracy = %.6f' % (pred_Y, Y, accuracy))\n",
    "    return W,b\n",
    "\n",
    "def get_pred(A):\n",
    "    _,A2 = A\n",
    "    # Use np.argmax along axis 0 to get the indices of the maximum values in each column\n",
    "    max_indices = np.argmax(A2, axis=0)\n",
    "    return max_indices\n",
    "\n",
    "def get_accuracy(Y,pred_Y):\n",
    "    return np.sum(Y==pred_Y, axis=0)/len(Y)\n",
    "\n",
    "\n",
    "def get_new_pred(X,W,b):\n",
    "    _,A = forward_propagation(W,b,X)\n",
    "    Y_pred = get_pred(A)\n",
    "    return Y_pred\n",
    "\n",
    "def show_pred(idx_sample,X,Y, W,b):\n",
    "    current_sample_X = X[:, idx_sample,None] # the None keeps the structure of the slicing, i.e. keeps the result as a column vector\n",
    "    current_sample_Y = Y[idx_sample]\n",
    "    current_pred_Y = get_new_pred(current_sample_X,W,b)\n",
    "    print('prediction:',current_pred_Y)\n",
    "    print('lable:',current_sample_Y)\n",
    "\n",
    "    X_mat = current_sample_X.reshape((28, 28)) * 255\n",
    "    #plt.figure(figsize=(5, 5))\n",
    "    plt.imshow(X_mat, cmap='gray')\n",
    "    plt.show()\n"
   ]
  },
  {
   "cell_type": "code",
   "execution_count": 72,
   "metadata": {},
   "outputs": [
    {
     "name": "stdout",
     "output_type": "stream",
     "text": [
      "iteration: 10\n",
      "\n",
      "[3 3 0 ... 1 0 8] || [2 6 4 ... 2 6 0]\n",
      "accuracy = 0.206415\n",
      "iteration: 20\n",
      "\n",
      "[3 3 0 ... 9 0 0] || [2 6 4 ... 2 6 0]\n",
      "accuracy = 0.277805\n",
      "iteration: 30\n",
      "\n",
      "[3 3 0 ... 9 6 0] || [2 6 4 ... 2 6 0]\n",
      "accuracy = 0.340146\n",
      "iteration: 40\n",
      "\n",
      "[3 3 4 ... 8 6 0] || [2 6 4 ... 2 6 0]\n",
      "accuracy = 0.389683\n",
      "iteration: 50\n",
      "\n",
      "[3 3 4 ... 8 6 0] || [2 6 4 ... 2 6 0]\n",
      "accuracy = 0.438268\n",
      "iteration: 100\n",
      "\n",
      "[2 6 4 ... 8 6 0] || [2 6 4 ... 2 6 0]\n",
      "accuracy = 0.634683\n",
      "iteration: 200\n",
      "\n",
      "[2 6 4 ... 4 6 0] || [2 6 4 ... 2 6 0]\n",
      "accuracy = 0.770171\n",
      "iteration: 300\n",
      "\n",
      "[2 6 4 ... 4 6 0] || [2 6 4 ... 2 6 0]\n",
      "accuracy = 0.820634\n",
      "iteration: 400\n",
      "\n",
      "[2 6 4 ... 4 6 0] || [2 6 4 ... 2 6 0]\n",
      "accuracy = 0.845000\n",
      "iteration: 500\n",
      "\n",
      "[2 6 4 ... 4 6 0] || [2 6 4 ... 2 6 0]\n",
      "accuracy = 0.859854\n",
      "iteration: 600\n",
      "\n",
      "[2 6 4 ... 4 6 0] || [2 6 4 ... 2 6 0]\n",
      "accuracy = 0.868000\n",
      "iteration: 700\n",
      "\n",
      "[2 6 4 ... 4 6 0] || [2 6 4 ... 2 6 0]\n",
      "accuracy = 0.874805\n",
      "iteration: 800\n",
      "\n",
      "[2 6 4 ... 4 6 0] || [2 6 4 ... 2 6 0]\n",
      "accuracy = 0.880585\n",
      "iteration: 900\n",
      "\n",
      "[2 6 4 ... 4 6 0] || [2 6 4 ... 2 6 0]\n",
      "accuracy = 0.884878\n",
      "iteration: 1000\n",
      "\n",
      "[2 6 4 ... 4 6 0] || [2 6 4 ... 2 6 0]\n",
      "accuracy = 0.888878\n"
     ]
    }
   ],
   "source": [
    "W,b = gradient_descent(X_train,Y_train,0.1,1000,42,None,None)"
   ]
  },
  {
   "cell_type": "code",
   "execution_count": 74,
   "metadata": {},
   "outputs": [
    {
     "name": "stdout",
     "output_type": "stream",
     "text": [
      "Lists saved to weights_biases.pkl\n"
     ]
    }
   ],
   "source": [
    "with open('weights_biases.pkl', 'wb') as file:\n",
    "    pickle.dump((W, b), file)\n",
    "print(\"Lists saved to weights_biases.pkl\")"
   ]
  },
  {
   "cell_type": "code",
   "execution_count": 75,
   "metadata": {},
   "outputs": [
    {
     "name": "stdout",
     "output_type": "stream",
     "text": [
      "Read lists from weights_biases.pkl:\n"
     ]
    }
   ],
   "source": [
    "with open('weights_biases.pkl', 'rb') as file:\n",
    "    W, b = pickle.load(file)\n",
    "\n",
    "print(\"Read lists from weights_biases.pkl:\")"
   ]
  },
  {
   "cell_type": "code",
   "execution_count": 76,
   "metadata": {},
   "outputs": [
    {
     "name": "stdout",
     "output_type": "stream",
     "text": [
      "iteration: 10\n",
      "\n",
      "[2 6 4 ... 4 6 0] || [2 6 4 ... 2 6 0]\n",
      "accuracy = 0.889220\n",
      "iteration: 20\n",
      "\n",
      "[2 6 4 ... 4 6 0] || [2 6 4 ... 2 6 0]\n",
      "accuracy = 0.889634\n",
      "iteration: 30\n",
      "\n",
      "[2 6 4 ... 4 6 0] || [2 6 4 ... 2 6 0]\n",
      "accuracy = 0.890073\n",
      "iteration: 40\n",
      "\n",
      "[2 6 4 ... 4 6 0] || [2 6 4 ... 2 6 0]\n",
      "accuracy = 0.890610\n",
      "iteration: 50\n",
      "\n",
      "[2 6 4 ... 4 6 0] || [2 6 4 ... 2 6 0]\n",
      "accuracy = 0.891049\n",
      "iteration: 100\n",
      "\n",
      "[2 6 4 ... 4 6 0] || [2 6 4 ... 2 6 0]\n",
      "accuracy = 0.892634\n",
      "iteration: 200\n",
      "\n",
      "[2 6 4 ... 4 6 0] || [2 6 4 ... 2 6 0]\n",
      "accuracy = 0.895683\n",
      "iteration: 300\n",
      "\n",
      "[2 6 4 ... 4 6 0] || [2 6 4 ... 2 6 0]\n",
      "accuracy = 0.898439\n",
      "iteration: 400\n",
      "\n",
      "[2 6 4 ... 4 6 0] || [2 6 4 ... 2 6 0]\n",
      "accuracy = 0.900610\n",
      "iteration: 500\n",
      "\n",
      "[2 6 4 ... 4 6 0] || [2 6 4 ... 2 6 0]\n",
      "accuracy = 0.902878\n",
      "iteration: 600\n",
      "\n",
      "[2 6 4 ... 4 6 0] || [2 6 4 ... 2 6 0]\n",
      "accuracy = 0.904488\n",
      "iteration: 700\n",
      "\n",
      "[2 6 4 ... 4 6 0] || [2 6 4 ... 2 6 0]\n",
      "accuracy = 0.905659\n",
      "iteration: 800\n",
      "\n",
      "[2 6 4 ... 4 6 0] || [2 6 4 ... 2 6 0]\n",
      "accuracy = 0.907049\n",
      "iteration: 900\n",
      "\n",
      "[2 6 4 ... 4 6 0] || [2 6 4 ... 2 6 0]\n",
      "accuracy = 0.908098\n",
      "iteration: 1000\n",
      "\n",
      "[2 6 4 ... 4 6 0] || [2 6 4 ... 2 6 0]\n",
      "accuracy = 0.909976\n"
     ]
    }
   ],
   "source": [
    "W,b = gradient_descent(X_train,Y_train,0.1,1000,42,W,b)"
   ]
  },
  {
   "cell_type": "code",
   "execution_count": 81,
   "metadata": {},
   "outputs": [
    {
     "name": "stdout",
     "output_type": "stream",
     "text": [
      "The file 'weights_biases.pkl' exists. Using existing W and b for continued training.\n",
      "iteration: 10\n",
      "\n",
      "[2 6 4 ... 4 6 0] || [2 6 4 ... 2 6 0]\n",
      "accuracy = 0.920146\n",
      "iteration: 20\n",
      "\n",
      "[2 6 4 ... 4 6 0] || [2 6 4 ... 2 6 0]\n",
      "accuracy = 0.920195\n",
      "iteration: 30\n",
      "\n",
      "[2 6 4 ... 4 6 0] || [2 6 4 ... 2 6 0]\n",
      "accuracy = 0.920293\n",
      "iteration: 40\n",
      "\n",
      "[2 6 4 ... 4 6 0] || [2 6 4 ... 2 6 0]\n",
      "accuracy = 0.920341\n",
      "iteration: 50\n",
      "\n",
      "[2 6 4 ... 4 6 0] || [2 6 4 ... 2 6 0]\n",
      "accuracy = 0.920390\n",
      "iteration: 100\n",
      "\n",
      "[2 6 4 ... 4 6 0] || [2 6 4 ... 2 6 0]\n",
      "accuracy = 0.920707\n",
      "iteration: 200\n",
      "\n",
      "[2 6 4 ... 4 6 0] || [2 6 4 ... 2 6 0]\n",
      "accuracy = 0.921366\n",
      "iteration: 300\n",
      "\n",
      "[2 6 4 ... 4 6 0] || [2 6 4 ... 2 6 0]\n",
      "accuracy = 0.922024\n",
      "iteration: 400\n",
      "\n",
      "[2 6 4 ... 4 6 0] || [2 6 4 ... 2 6 0]\n",
      "accuracy = 0.922610\n",
      "iteration: 500\n",
      "\n",
      "[2 6 4 ... 4 6 0] || [2 6 4 ... 2 6 0]\n",
      "accuracy = 0.923098\n",
      "iteration: 600\n",
      "\n",
      "[2 6 4 ... 4 6 0] || [2 6 4 ... 2 6 0]\n",
      "accuracy = 0.923634\n",
      "iteration: 700\n",
      "\n",
      "[2 6 4 ... 4 6 0] || [2 6 4 ... 2 6 0]\n",
      "accuracy = 0.924341\n",
      "iteration: 800\n",
      "\n",
      "[2 6 4 ... 4 6 0] || [2 6 4 ... 2 6 0]\n",
      "accuracy = 0.924951\n",
      "iteration: 900\n",
      "\n",
      "[2 6 4 ... 4 6 0] || [2 6 4 ... 2 6 0]\n",
      "accuracy = 0.925610\n",
      "iteration: 1000\n",
      "\n",
      "[2 6 4 ... 4 6 0] || [2 6 4 ... 2 6 0]\n",
      "accuracy = 0.926293\n",
      "Iterations complete, saving training progress.\n",
      "Lists saved to 'weights_biases.pkl'.\n"
     ]
    }
   ],
   "source": [
    "seed_num = 42\n",
    "\n",
    "filename = 'weights_biases.pkl'\n",
    "# Check if the file exists\n",
    "if os.path.exists(filename):\n",
    "    print(f\"The file '{filename}' exists. Using existing W and b for continued training.\")\n",
    "    with open(filename, 'rb') as file:\n",
    "        W, b = pickle.load(file)\n",
    "    W,b = gradient_descent(X_train,Y_train,0.1,1000,seed_num,W,b)\n",
    "else:\n",
    "    print(f\"The file '{filename}' does not exist. Star training from randomly initialized parameters.\")\n",
    "    W,b = gradient_descent(X_train,Y_train,0.1,1000,seed_num,None,None)\n",
    "\n",
    "print('Iterations complete, saving training progress.')\n",
    "with open(filename, 'wb') as file:\n",
    "    pickle.dump((W, b), file)\n",
    "print(f\"Lists saved to '{filename}'.\")"
   ]
  },
  {
   "cell_type": "code",
   "execution_count": 56,
   "metadata": {},
   "outputs": [
    {
     "name": "stdout",
     "output_type": "stream",
     "text": [
      "iteration: 10\n",
      "\n",
      "[2 6 4 ... 2 6 0] || [2 6 4 ... 2 6 0]\n",
      "accuracy = 0.929976\n",
      "iteration: 20\n",
      "\n",
      "[2 6 4 ... 2 6 0] || [2 6 4 ... 2 6 0]\n",
      "accuracy = 0.930000\n",
      "iteration: 30\n",
      "\n",
      "[2 6 4 ... 2 6 0] || [2 6 4 ... 2 6 0]\n",
      "accuracy = 0.930049\n",
      "iteration: 40\n",
      "\n",
      "[2 6 4 ... 2 6 0] || [2 6 4 ... 2 6 0]\n",
      "accuracy = 0.930098\n",
      "iteration: 50\n",
      "\n",
      "[2 6 4 ... 2 6 0] || [2 6 4 ... 2 6 0]\n",
      "accuracy = 0.930122\n",
      "iteration: 100\n",
      "\n",
      "[2 6 4 ... 2 6 0] || [2 6 4 ... 2 6 0]\n",
      "accuracy = 0.930317\n",
      "iteration: 200\n",
      "\n",
      "[2 6 4 ... 2 6 0] || [2 6 4 ... 2 6 0]\n",
      "accuracy = 0.930659\n",
      "iteration: 300\n",
      "\n",
      "[2 6 4 ... 2 6 0] || [2 6 4 ... 2 6 0]\n",
      "accuracy = 0.931049\n",
      "iteration: 400\n",
      "\n",
      "[2 6 4 ... 2 6 0] || [2 6 4 ... 2 6 0]\n",
      "accuracy = 0.931098\n",
      "iteration: 500\n",
      "\n",
      "[2 6 4 ... 2 6 0] || [2 6 4 ... 2 6 0]\n",
      "accuracy = 0.931488\n",
      "iteration: 600\n",
      "\n",
      "[2 6 4 ... 2 6 0] || [2 6 4 ... 2 6 0]\n",
      "accuracy = 0.931976\n",
      "iteration: 700\n",
      "\n",
      "[2 6 4 ... 2 6 0] || [2 6 4 ... 2 6 0]\n",
      "accuracy = 0.932293\n",
      "iteration: 800\n",
      "\n",
      "[2 6 4 ... 2 6 0] || [2 6 4 ... 2 6 0]\n",
      "accuracy = 0.932854\n",
      "iteration: 900\n",
      "\n",
      "[2 6 4 ... 2 6 0] || [2 6 4 ... 2 6 0]\n",
      "accuracy = 0.932927\n",
      "iteration: 1000\n",
      "\n",
      "[2 6 4 ... 2 6 0] || [2 6 4 ... 2 6 0]\n",
      "accuracy = 0.933268\n"
     ]
    }
   ],
   "source": [
    "#W_current,b_current = gradient_descent(X_train,Y_train,0.1,1000,42,W_current,b_current)"
   ]
  },
  {
   "cell_type": "code",
   "execution_count": 62,
   "metadata": {},
   "outputs": [
    {
     "name": "stdout",
     "output_type": "stream",
     "text": [
      "prediction: [2]\n",
      "lable: 2\n"
     ]
    },
    {
     "data": {
      "image/png": "[encoded data removed]",
      "text/plain": [
       "<Figure size 640x480 with 1 Axes>"
      ]
     },
     "metadata": {},
     "output_type": "display_data"
    },
    {
     "name": "stdout",
     "output_type": "stream",
     "text": [
      "prediction: [6]\n",
      "lable: 6\n"
     ]
    },
    {
     "data": {
      "image/png": "[encoded data removed]",
      "text/plain": [
       "<Figure size 640x480 with 1 Axes>"
      ]
     },
     "metadata": {},
     "output_type": "display_data"
    },
    {
     "name": "stdout",
     "output_type": "stream",
     "text": [
      "prediction: [4]\n",
      "lable: 4\n"
     ]
    },
    {
     "data": {
      "image/png": "[encoded data removed]",
      "text/plain": [
       "<Figure size 640x480 with 1 Axes>"
      ]
     },
     "metadata": {},
     "output_type": "display_data"
    },
    {
     "name": "stdout",
     "output_type": "stream",
     "text": [
      "prediction: [8]\n",
      "lable: 8\n"
     ]
    },
    {
     "data": {
      "image/png": "[encoded data removed]",
      "text/plain": [
       "<Figure size 640x480 with 1 Axes>"
      ]
     },
     "metadata": {},
     "output_type": "display_data"
    }
   ],
   "source": [
    "W_current = W\n",
    "b_current = b\n",
    "show_pred(0,X_train,Y_train, W_current, b_current)\n",
    "show_pred(1,X_train,Y_train, W_current, b_current)\n",
    "show_pred(2,X_train,Y_train, W_current, b_current)\n",
    "show_pred(3,X_train,Y_train, W_current, b_current)"
   ]
  },
  {
   "cell_type": "code",
   "execution_count": 70,
   "metadata": {},
   "outputs": [
    {
     "data": {
      "text/plain": [
       "0.943"
      ]
     },
     "execution_count": 70,
     "metadata": {},
     "output_type": "execute_result"
    }
   ],
   "source": [
    "test_pred_Y = get_new_pred(X_test,W_current,b_current)\n",
    "test_accuracy = get_accuracy(Y_test,test_pred_Y)\n",
    "test_accuracy"
   ]
  },
  {
   "cell_type": "code",
   "execution_count": 63,
   "metadata": {},
   "outputs": [
    {
     "name": "stdout",
     "output_type": "stream",
     "text": [
      "prediction: [9]\n",
      "lable: 9\n"
     ]
    },
    {
     "data": {
      "image/png": "[encoded data removed]",
      "text/plain": [
       "<Figure size 640x480 with 1 Axes>"
      ]
     },
     "metadata": {},
     "output_type": "display_data"
    }
   ],
   "source": [
    "show_pred(3,X_test,Y_test, W_current, b_current)"
   ]
  }
 ],
 "metadata": {
  "kernelspec": {
   "display_name": "Python 3",
   "language": "python",
   "name": "python3"
  },
  "language_info": {
   "codemirror_mode": {
    "name": "ipython",
    "version": 3
   },
   "file_extension": ".py",
   "mimetype": "text/x-python",
   "name": "python",
   "nbconvert_exporter": "python",
   "pygments_lexer": "ipython3",
   "version": "3.12.2"
  }
 },
 "nbformat": 4,
 "nbformat_minor": 2
}
